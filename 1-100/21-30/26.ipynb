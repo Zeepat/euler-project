{
 "cells": [
  {
   "cell_type": "code",
   "execution_count": 12,
   "metadata": {},
   "outputs": [
    {
     "name": "stdout",
     "output_type": "stream",
     "text": [
      "0\n",
      "['0', '0', '1', '0', '0', '1', '0', '0', '1', '0', '0', '1', '0', '0', '1', '0', '0', '1']\n",
      "\n",
      "0\n"
     ]
    }
   ],
   "source": [
    "saved_iteration = \"\"\n",
    "saved_number = 0\n",
    "for i in range(2, 1000):\n",
    "    number_string = str(1/i)\n",
    "    first_char = number_string[2]\n",
    "    current_iteration = \"\"\n",
    "    decimal_string = number_string[2:]\n",
    "    decimal_list = []\n",
    "    for i in decimal_string:\n",
    "        decimal_list.append(i)\n",
    "    if len(number_string) > 2 and decimal_list.count(\"first_char\") > 1:\n",
    "        for char in number_string[3:]:\n",
    "            if char != first_char:\n",
    "                current_iteration += char\n",
    "            else:\n",
    "                break\n",
    "    \n",
    "    if len(current_iteration) > len(saved_iteration):\n",
    "        saved_iteration = current_iteration\n",
    "        saved_number = i\n",
    "\n",
    "print(first_char)\n",
    "print(decimal_list)\n",
    "print(saved_iteration)\n",
    "print(saved_number)"
   ]
  },
  {
   "cell_type": "code",
   "execution_count": 15,
   "metadata": {},
   "outputs": [
    {
     "name": "stdout",
     "output_type": "stream",
     "text": [
      "0.045454545454545456\n",
      "0\n",
      "\n",
      "7\n",
      "['0', '4', '5', '4', '5', '4', '5', '4', '5', '4', '5', '4', '5', '4', '5', '4', '5', '6']\n"
     ]
    }
   ],
   "source": [
    "saved_iteration = \"\"\n",
    "number_string = str(1/22)\n",
    "first_char = number_string[2]\n",
    "current_iteration = \"\"\n",
    "decimal_string = number_string[2:]\n",
    "decimal_list = []\n",
    "for i in decimal_string:\n",
    "    decimal_list.append(i)\n",
    "if len(number_string) > 2 and decimal_list.count(first_char) > 1:\n",
    "    for char in number_string[3:]:\n",
    "        if char != first_char:\n",
    "            current_iteration += char\n",
    "\n",
    "if len(current_iteration) >= len(saved_iteration):\n",
    "    saved_iteration = current_iteration\n",
    "    saved_number = 7\n",
    "\n",
    "print(number_string[:])\n",
    "print(first_char)\n",
    "\n",
    "print(saved_iteration)\n",
    "print(saved_number)\n",
    "print(decimal_list)"
   ]
  }
 ],
 "metadata": {
  "kernelspec": {
   "display_name": "Python-Programming-Asajad-Hussein-wqUMovOj",
   "language": "python",
   "name": "python3"
  },
  "language_info": {
   "codemirror_mode": {
    "name": "ipython",
    "version": 3
   },
   "file_extension": ".py",
   "mimetype": "text/x-python",
   "name": "python",
   "nbconvert_exporter": "python",
   "pygments_lexer": "ipython3",
   "version": "3.11.5"
  },
  "orig_nbformat": 4
 },
 "nbformat": 4,
 "nbformat_minor": 2
}
