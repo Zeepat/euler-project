{
 "cells": [
  {
   "cell_type": "code",
   "execution_count": 12,
   "metadata": {},
   "outputs": [
    {
     "name": "stdout",
     "output_type": "stream",
     "text": [
      "0\n",
      "['0', '0', '1', '0', '0', '1', '0', '0', '1', '0', '0', '1', '0', '0', '1', '0', '0', '1']\n",
      "\n",
      "0\n"
     ]
    }
   ],
   "source": [
    "saved_iteration = \"\"\n",
    "saved_number = 0\n",
    "for i in range(2, 1000):\n",
    "    number_string = str(1/i)\n",
    "    first_char = number_string[2]\n",
    "    current_iteration = \"\"\n",
    "    decimal_string = number_string[2:]\n",
    "    decimal_list = []\n",
    "    for i in decimal_string:\n",
    "        decimal_list.append(i)\n",
    "    if len(number_string) > 2 and decimal_list.count(\"first_char\") > 1:\n",
    "        for char in number_string[3:]:\n",
    "            if char != first_char:\n",
    "                current_iteration += char\n",
    "            else:\n",
    "                break\n",
    "    \n",
    "    if len(current_iteration) > len(saved_iteration):\n",
    "        saved_iteration = current_iteration\n",
    "        saved_number = i\n",
    "\n",
    "print(first_char)\n",
    "print(decimal_list)\n",
    "print(saved_iteration)\n",
    "print(saved_number)"
   ]
  },
  {
   "cell_type": "code",
   "execution_count": 15,
   "metadata": {},
   "outputs": [
    {
     "name": "stdout",
     "output_type": "stream",
     "text": [
      "0.045454545454545456\n",
      "0\n",
      "\n",
      "7\n",
      "['0', '4', '5', '4', '5', '4', '5', '4', '5', '4', '5', '4', '5', '4', '5', '4', '5', '6']\n"
     ]
    }
   ],
   "source": [
    "saved_iteration = \"\"\n",
    "number_string = str(1/22)\n",
    "first_char = number_string[2]\n",
    "current_iteration = \"\"\n",
    "decimal_string = number_string[2:]\n",
    "decimal_list = []\n",
    "for i in decimal_string:\n",
    "    decimal_list.append(i)\n",
    "if len(number_string) > 2 and decimal_list.count(first_char) > 1:\n",
    "    for char in number_string[3:]:\n",
    "        if char != first_char:\n",
    "            current_iteration += char\n",
    "\n",
    "if len(current_iteration) >= len(saved_iteration):\n",
    "    saved_iteration = current_iteration\n",
    "    saved_number = 7\n",
    "\n",
    "print(number_string[:])\n",
    "print(first_char)\n",
    "\n",
    "print(saved_iteration)\n",
    "print(saved_number)\n",
    "print(decimal_list)"
   ]
  },
  {
   "cell_type": "code",
   "execution_count": 10,
   "metadata": {},
   "outputs": [
    {
     "name": "stdout",
     "output_type": "stream",
     "text": [
      "(225, '44444444444444444')\n"
     ]
    }
   ],
   "source": [
    "def find_longest_recurring_decimal_cycle(start, end):\n",
    "    saved_iteration = \"\"\n",
    "    saved_number = 0\n",
    "    for i in range(start, end):\n",
    "        number_string = str(1/i)\n",
    "        number_string = number_string[2:]\n",
    "        first_char = number_string[0]\n",
    "        current_iteration = \"\"\n",
    "        decimal_list = []\n",
    "        for j in number_string:\n",
    "            decimal_list.append(j)\n",
    "        if len(number_string) > 2 and decimal_list.count(first_char) > 1:\n",
    "            for char in number_string[1:]:\n",
    "                if char != first_char:\n",
    "                    current_iteration += char\n",
    "                else:\n",
    "                    for k in range(1, len(current_iteration)):\n",
    "                        if current_iteration[:k] == current_iteration[k:2*k]:\n",
    "                            current_iteration_string = str(current_iteration)\n",
    "                            current_iteration_string_list = current_iteration_string.split()\n",
    "                            if current_iteration_string_list.count(current_iteration[0]) == len(current_iteration_string_list): \n",
    "                                break\n",
    "                            else:\n",
    "                                current_iteration = current_iteration[:k]\n",
    "                                break\n",
    "        if len(current_iteration) > len(saved_iteration):\n",
    "            saved_iteration = current_iteration\n",
    "            saved_number = i\n",
    "    return saved_number, saved_iteration\n",
    "\n",
    "print(find_longest_recurring_decimal_cycle(2, 1000))"
   ]
  },
  {
   "cell_type": "code",
   "execution_count": 11,
   "metadata": {},
   "outputs": [
    {
     "name": "stdout",
     "output_type": "stream",
     "text": [
      "983\n"
     ]
    }
   ],
   "source": [
    "def find_longest_recurring_decimal_cycle(start, end):\n",
    "    max_length = 0\n",
    "    number = 0\n",
    "    for i in range(end, start, -1):\n",
    "        if max_length >= i:\n",
    "            break\n",
    "        remainders = [0] * i\n",
    "        value = 1\n",
    "        position = 0\n",
    "        while remainders[value] == 0 and value != 0:\n",
    "            remainders[value] = position\n",
    "            value *= 10\n",
    "            value %= i\n",
    "            position += 1\n",
    "        if position - remainders[value] > max_length:\n",
    "            number = i\n",
    "            max_length = position - remainders[value]\n",
    "    return number\n",
    "\n",
    "print(find_longest_recurring_decimal_cycle(2, 1000))"
   ]
  }
 ],
 "metadata": {
  "kernelspec": {
   "display_name": "Python-Programming-Asajad-Hussein-wqUMovOj",
   "language": "python",
   "name": "python3"
  },
  "language_info": {
   "codemirror_mode": {
    "name": "ipython",
    "version": 3
   },
   "file_extension": ".py",
   "mimetype": "text/x-python",
   "name": "python",
   "nbconvert_exporter": "python",
   "pygments_lexer": "ipython3",
   "version": "3.11.5"
  },
  "orig_nbformat": 4
 },
 "nbformat": 4,
 "nbformat_minor": 2
}
