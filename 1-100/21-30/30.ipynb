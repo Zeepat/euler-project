{
 "cells": [
  {
   "cell_type": "code",
   "execution_count": 20,
   "metadata": {},
   "outputs": [
    {
     "data": {
      "text/plain": [
       "([4150, 4151, 54748, 92727, 93084, 194979], 443839)"
      ]
     },
     "execution_count": 20,
     "metadata": {},
     "output_type": "execute_result"
    }
   ],
   "source": [
    "def something(n):\n",
    "\n",
    "    number_list = []\n",
    "    total_sum = 0\n",
    "\n",
    "    for i in range(2, 10**(n+1)):\n",
    "        sum = 0\n",
    "        number_string = str(i)\n",
    "        number_string_list = []\n",
    "        [number_string_list.append(j) for j in number_string]\n",
    "        for j in number_string_list:\n",
    "            sum += int(j)**n\n",
    "        \n",
    "        if sum == i:\n",
    "            number_list.append(i)\n",
    "            total_sum += i\n",
    "\n",
    "    return number_list, total_sum\n",
    "\n",
    "something(5)"
   ]
  }
 ],
 "metadata": {
  "kernelspec": {
   "display_name": "base",
   "language": "python",
   "name": "python3"
  },
  "language_info": {
   "codemirror_mode": {
    "name": "ipython",
    "version": 3
   },
   "file_extension": ".py",
   "mimetype": "text/x-python",
   "name": "python",
   "nbconvert_exporter": "python",
   "pygments_lexer": "ipython3",
   "version": "3.11.4"
  }
 },
 "nbformat": 4,
 "nbformat_minor": 2
}
