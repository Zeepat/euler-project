{
 "cells": [
  {
   "cell_type": "code",
   "execution_count": 29,
   "metadata": {},
   "outputs": [
    {
     "data": {
      "text/plain": [
       "669171001"
      ]
     },
     "execution_count": 29,
     "metadata": {},
     "output_type": "execute_result"
    }
   ],
   "source": [
    "# Create a function for the spiral\n",
    "\n",
    "def spiral_counter(n):\n",
    "\n",
    "    current_number = 0\n",
    "    number_skip = 0\n",
    "    sum = 0\n",
    "\n",
    "    # Amount of times the iteration should be proceeded depending on the n-value given\n",
    "    iterations = round(n / 2) + 1\n",
    "\n",
    "    for i in range(iterations):\n",
    "        number_skip = 2*i\n",
    "        if i != 0:\n",
    "            for j in range(4):\n",
    "                current_number += number_skip\n",
    "                sum += current_number\n",
    "        else:\n",
    "            current_number += 1\n",
    "            sum += current_number\n",
    "\n",
    "    return sum\n",
    "\n",
    "# Call said function\n",
    "\n",
    "spiral_counter(1001)"
   ]
  }
 ],
 "metadata": {
  "kernelspec": {
   "display_name": "base",
   "language": "python",
   "name": "python3"
  },
  "language_info": {
   "codemirror_mode": {
    "name": "ipython",
    "version": 3
   },
   "file_extension": ".py",
   "mimetype": "text/x-python",
   "name": "python",
   "nbconvert_exporter": "python",
   "pygments_lexer": "ipython3",
   "version": "3.11.4"
  }
 },
 "nbformat": 4,
 "nbformat_minor": 2
}
