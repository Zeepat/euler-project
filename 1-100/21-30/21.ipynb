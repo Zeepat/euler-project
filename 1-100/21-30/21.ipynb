{
 "cells": [
  {
   "cell_type": "code",
   "execution_count": 15,
   "metadata": {},
   "outputs": [
    {
     "name": "stdout",
     "output_type": "stream",
     "text": [
      "31626\n",
      "[220, 284, 1184, 1210, 2620, 2924, 5020, 5564, 6232, 6368]\n"
     ]
    }
   ],
   "source": [
    "def divisors(n):\n",
    "    divisors_list = []\n",
    "    append_list = []\n",
    "    for divisor in range(1, int(n**0.5) + 1):\n",
    "        if n % divisor == 0:\n",
    "            divisors_list.append(divisor)\n",
    "    \n",
    "\n",
    "\n",
    "    for divisor in divisors_list:\n",
    "        append_list.append(int(n / divisor))\n",
    "\n",
    "    for divisor in append_list:\n",
    "        if divisor not in divisors_list:\n",
    "            divisors_list.append(divisor)\n",
    "    \n",
    "    divisors_list.remove(n)\n",
    "\n",
    "    sum = 0\n",
    "    for item in divisors_list:\n",
    "        sum += item\n",
    "\n",
    "    return sum\n",
    "\n",
    "\n",
    "\n",
    "def amicable(n):\n",
    "    a = divisors(n)\n",
    "\n",
    "    if divisors(a) == n and a != n:\n",
    "        return n\n",
    "\n",
    "    else:\n",
    "        return None\n",
    "    \n",
    "def main(n):\n",
    "    amicable_list = []\n",
    "\n",
    "    for number in range(2, n):\n",
    "        current = amicable(number)\n",
    "        if current != None:\n",
    "            amicable_list.append(current)\n",
    "    sum = 0\n",
    "    for number in amicable_list:\n",
    "        sum += number\n",
    "\n",
    "    print(sum)\n",
    "    print(amicable_list)\n",
    "\n",
    "main(10000)\n",
    "    \n",
    "\n",
    "\n"
   ]
  }
 ],
 "metadata": {
  "kernelspec": {
   "display_name": "Python-Programming-Asajad-Hussein-wqUMovOj",
   "language": "python",
   "name": "python3"
  },
  "language_info": {
   "codemirror_mode": {
    "name": "ipython",
    "version": 3
   },
   "file_extension": ".py",
   "mimetype": "text/x-python",
   "name": "python",
   "nbconvert_exporter": "python",
   "pygments_lexer": "ipython3",
   "version": "3.11.5"
  },
  "orig_nbformat": 4
 },
 "nbformat": 4,
 "nbformat_minor": 2
}
