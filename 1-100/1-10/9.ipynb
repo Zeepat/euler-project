{
 "cells": [
  {
   "cell_type": "code",
   "execution_count": 10,
   "metadata": {},
   "outputs": [
    {
     "name": "stdout",
     "output_type": "stream",
     "text": [
      "31875000\n"
     ]
    }
   ],
   "source": [
    "for i in range(400):\n",
    "    for j in range(i+1, 400):\n",
    "        for k in range(j+1, 1000):\n",
    "            if i**2 + j**2 == k**2 and i + j + k == 1000:\n",
    "                a = i\n",
    "                b = j\n",
    "                c = k\n",
    "print(a*b*c)\n"
   ]
  },
  {
   "cell_type": "code",
   "execution_count": 18,
   "metadata": {},
   "outputs": [
    {
     "name": "stdout",
     "output_type": "stream",
     "text": [
      "31875000\n"
     ]
    }
   ],
   "source": [
    "for a in range(1, 400):\n",
    "    for b in range(1, 400):\n",
    "        c = (1000 - a) - b\n",
    "        if a < b < c and a**2 + b**2 == c**2:\n",
    "            print(a*b*c)\n"
   ]
  }
 ],
 "metadata": {
  "kernelspec": {
   "display_name": "Python-Programming-Asajad-Hussein-wqUMovOj",
   "language": "python",
   "name": "python3"
  },
  "language_info": {
   "codemirror_mode": {
    "name": "ipython",
    "version": 3
   },
   "file_extension": ".py",
   "mimetype": "text/x-python",
   "name": "python",
   "nbconvert_exporter": "python",
   "pygments_lexer": "ipython3",
   "version": "3.11.5"
  },
  "orig_nbformat": 4
 },
 "nbformat": 4,
 "nbformat_minor": 2
}
