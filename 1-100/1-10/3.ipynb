{
 "cells": [
  {
   "cell_type": "code",
   "execution_count": 26,
   "metadata": {},
   "outputs": [
    {
     "name": "stdout",
     "output_type": "stream",
     "text": [
      "6857\n"
     ]
    }
   ],
   "source": [
    "prime_number = 0\n",
    "\n",
    "saved_number = 600851475143\n",
    "# prime_number_range = prime_number\n",
    "\n",
    "while saved_number % 2 == 0:\n",
    "    prime_number = 2\n",
    "    saved_number //= 2\n",
    "\n",
    "for i in range(3, int(saved_number**0.5), 2):\n",
    "    while saved_number % i == 0:\n",
    "        prime_number = i\n",
    "        saved_number //= i\n",
    "\n",
    "print(prime_number)"
   ]
  }
 ],
 "metadata": {
  "kernelspec": {
   "display_name": "Python-Programming-Asajad-Hussein-wqUMovOj",
   "language": "python",
   "name": "python3"
  },
  "language_info": {
   "codemirror_mode": {
    "name": "ipython",
    "version": 3
   },
   "file_extension": ".py",
   "mimetype": "text/x-python",
   "name": "python",
   "nbconvert_exporter": "python",
   "pygments_lexer": "ipython3",
   "version": "3.11.5"
  },
  "orig_nbformat": 4
 },
 "nbformat": 4,
 "nbformat_minor": 2
}
