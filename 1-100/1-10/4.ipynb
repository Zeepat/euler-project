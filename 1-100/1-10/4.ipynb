{
 "cells": [
  {
   "cell_type": "code",
   "execution_count": 9,
   "metadata": {},
   "outputs": [
    {
     "name": "stdout",
     "output_type": "stream",
     "text": [
      "913*993=906609\n"
     ]
    }
   ],
   "source": [
    "largest_palindrome = 0\n",
    "saved_i = 0\n",
    "saved_j = 0\n",
    "for i in range(100, 1000):\n",
    "    for j in range(100, 1000):\n",
    "        product = i * j\n",
    "        if str(product) == str(product)[::-1] and largest_palindrome < product:\n",
    "            largest_palindrome = product\n",
    "            saved_i = i\n",
    "            saved_j = j\n",
    "\n",
    "print(f'{saved_i}*{saved_j}={saved_i*saved_j}')\n"
   ]
  }
 ],
 "metadata": {
  "kernelspec": {
   "display_name": "Python-Programming-Asajad-Hussein-wqUMovOj",
   "language": "python",
   "name": "python3"
  },
  "language_info": {
   "codemirror_mode": {
    "name": "ipython",
    "version": 3
   },
   "file_extension": ".py",
   "mimetype": "text/x-python",
   "name": "python",
   "nbconvert_exporter": "python",
   "pygments_lexer": "ipython3",
   "version": "3.11.5"
  },
  "orig_nbformat": 4
 },
 "nbformat": 4,
 "nbformat_minor": 2
}
