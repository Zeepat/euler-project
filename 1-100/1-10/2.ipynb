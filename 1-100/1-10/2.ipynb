{
 "cells": [
  {
   "cell_type": "code",
   "execution_count": 3,
   "metadata": {},
   "outputs": [
    {
     "name": "stdout",
     "output_type": "stream",
     "text": [
      "4613732\n"
     ]
    }
   ],
   "source": [
    "previous_i = 1\n",
    "current_i = 2\n",
    "sum = 2\n",
    "while current_i < 4000000:\n",
    "    buffer = current_i\n",
    "    current_i += previous_i\n",
    "    previous_i = buffer\n",
    "    if current_i % 2 == 0:\n",
    "        sum += current_i\n",
    "\n",
    "print(sum)\n",
    "\n"
   ]
  }
 ],
 "metadata": {
  "kernelspec": {
   "display_name": "Python-Programming-Asajad-Hussein-wqUMovOj",
   "language": "python",
   "name": "python3"
  },
  "language_info": {
   "codemirror_mode": {
    "name": "ipython",
    "version": 3
   },
   "file_extension": ".py",
   "mimetype": "text/x-python",
   "name": "python",
   "nbconvert_exporter": "python",
   "pygments_lexer": "ipython3",
   "version": "3.11.5"
  },
  "orig_nbformat": 4
 },
 "nbformat": 4,
 "nbformat_minor": 2
}
