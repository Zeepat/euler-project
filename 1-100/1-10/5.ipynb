{
 "cells": [
  {
   "cell_type": "code",
   "execution_count": 4,
   "metadata": {},
   "outputs": [
    {
     "name": "stdout",
     "output_type": "stream",
     "text": [
      "[1, 2, 3, 4, 5, 6, 7, 8, 9, 10, 11, 12, 13, 14, 15, 16, 17, 18, 19, 20]\n"
     ]
    },
    {
     "ename": "KeyboardInterrupt",
     "evalue": "",
     "output_type": "error",
     "traceback": [
      "\u001b[0;31m---------------------------------------------------------------------------\u001b[0m",
      "\u001b[0;31mKeyboardInterrupt\u001b[0m                         Traceback (most recent call last)",
      "Cell \u001b[0;32mIn[4], line 9\u001b[0m\n\u001b[1;32m      7\u001b[0m \u001b[39mfor\u001b[39;00m number \u001b[39min\u001b[39;00m list_of_numbers:\n\u001b[1;32m      8\u001b[0m     \u001b[39mif\u001b[39;00m current_integer \u001b[39m%\u001b[39m number \u001b[39m==\u001b[39m \u001b[39m0\u001b[39m:\n\u001b[0;32m----> 9\u001b[0m         list_counter \u001b[39m+\u001b[39m\u001b[39m=\u001b[39m \u001b[39m1\u001b[39m\n\u001b[1;32m     10\u001b[0m     \u001b[39melse\u001b[39;00m:\n\u001b[1;32m     11\u001b[0m         \u001b[39mbreak\u001b[39;00m\n",
      "\u001b[0;31mKeyboardInterrupt\u001b[0m: "
     ]
    }
   ],
   "source": [
    "current_integer = 1\n",
    "list_of_numbers = list(range(1, 21))\n",
    "\n",
    "print(list_of_numbers)\n",
    "while True:\n",
    "    list_counter = 0\n",
    "    for number in list_of_numbers:\n",
    "        if current_integer % number == 0:\n",
    "            list_counter += 1\n",
    "        else:\n",
    "            break\n",
    "    if list_counter == 20:\n",
    "        print(current_integer)\n",
    "        break\n",
    "    "
   ]
  },
  {
   "cell_type": "code",
   "execution_count": 27,
   "metadata": {},
   "outputs": [
    {
     "name": "stdout",
     "output_type": "stream",
     "text": [
      "232792560\n"
     ]
    }
   ],
   "source": [
    "def find_gcd(a, b):\n",
    "    while b:\n",
    "        a, b = b, a % b\n",
    "    return a\n",
    "\n",
    "def find_lcm(a, b):\n",
    "    return (a * b) // find_gcd(a, b)\n",
    "\n",
    "def find_smallest_multiple(n):\n",
    "    lcm = 1\n",
    "    for i in range(2, n + 1):\n",
    "        lcm = find_lcm(lcm, i)\n",
    "    return lcm\n",
    "\n",
    "result = find_smallest_multiple(20)\n",
    "print(result)"
   ]
  }
 ],
 "metadata": {
  "kernelspec": {
   "display_name": "Python-Programming-Asajad-Hussein-wqUMovOj",
   "language": "python",
   "name": "python3"
  },
  "language_info": {
   "codemirror_mode": {
    "name": "ipython",
    "version": 3
   },
   "file_extension": ".py",
   "mimetype": "text/x-python",
   "name": "python",
   "nbconvert_exporter": "python",
   "pygments_lexer": "ipython3",
   "version": "3.11.5"
  },
  "orig_nbformat": 4
 },
 "nbformat": 4,
 "nbformat_minor": 2
}
