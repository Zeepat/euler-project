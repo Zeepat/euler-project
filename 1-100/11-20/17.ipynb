{
 "cells": [
  {
   "cell_type": "code",
   "execution_count": 5,
   "metadata": {},
   "outputs": [
    {
     "name": "stdout",
     "output_type": "stream",
     "text": [
      "21124\n"
     ]
    }
   ],
   "source": [
    "def number_to_words(number):\n",
    "    number_list_single_digit = [\"\", \"one\", \"two\", \"three\", \"four\", \"five\", \"six\", \"seven\", \"eight\", \"nine\"]\n",
    "    number_list_teens = [\"ten\", \"eleven\", \"twelve\", \"thirteen\", \"fourteen\", \"fifteen\", \"sixteen\", \"seventeen\", \"eighteen\", \"nineteen\"]\n",
    "    number_list_tens = [\"\", \"\", \"twenty\", \"thirty\", \"forty\", \"fifty\", \"sixty\", \"seventy\", \"eighty\", \"ninety\"]\n",
    "\n",
    "    if number == 0:\n",
    "        return \"zero\"\n",
    "    elif number < 10:\n",
    "        return number_list_single_digit[number]\n",
    "    elif number < 20:\n",
    "        return number_list_teens[number - 10]\n",
    "    elif number < 100:\n",
    "        return number_list_tens[number // 10] + (\"\" + number_to_words(number % 10) if number % 10 != 0 else \"\")\n",
    "    elif number < 1000:\n",
    "        return number_list_single_digit[number // 100] + \"hundred\" + (\" and \" + number_to_words(number % 100) if number % 100 != 0 else \"\")\n",
    "    elif number == 1000:\n",
    "        return \"one thousand\"\n",
    "sum = 0\n",
    "\n",
    "alphabet = \"abcdefghijklmnopqrstuvwxyz\"\n",
    "\n",
    "for number in range(1, 1001):\n",
    "    char_count = 0\n",
    "    for char in number_to_words(number):\n",
    "        if char in alphabet:\n",
    "            char_count += 1\n",
    "    sum += char_count\n",
    "\n",
    "print(sum)"
   ]
  }
 ],
 "metadata": {
  "kernelspec": {
   "display_name": "Python-Programming-Asajad-Hussein-wqUMovOj",
   "language": "python",
   "name": "python3"
  },
  "language_info": {
   "codemirror_mode": {
    "name": "ipython",
    "version": 3
   },
   "file_extension": ".py",
   "mimetype": "text/x-python",
   "name": "python",
   "nbconvert_exporter": "python",
   "pygments_lexer": "ipython3",
   "version": "3.11.5"
  },
  "orig_nbformat": 4
 },
 "nbformat": 4,
 "nbformat_minor": 2
}
