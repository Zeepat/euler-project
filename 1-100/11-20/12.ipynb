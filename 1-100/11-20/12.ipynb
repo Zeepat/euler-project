{
 "cells": [
  {
   "cell_type": "code",
   "execution_count": 11,
   "metadata": {},
   "outputs": [
    {
     "name": "stdout",
     "output_type": "stream",
     "text": [
      "76576500.0\n"
     ]
    }
   ],
   "source": [
    "def divisors(n):\n",
    "    sum = 0\n",
    "    for i in range(1, int(n**0.5)+1):\n",
    "        if n % i == 0:\n",
    "            sum += 2\n",
    "        if i % i == n:\n",
    "            sum -= 1\n",
    "    return sum\n",
    "# y = 1\n",
    "# for x in range(2, 1000000):\n",
    "#     y += x\n",
    "#     if divisors(y) >= 500:\n",
    "#         print(y)\n",
    "#         break\n",
    "\n",
    "for n in range(1,100000):\n",
    "    Tn=(n*(n+1))/2\n",
    "    if n%2==0:\n",
    "        cnt=divisors(n/2)*divisors(n+1)\n",
    "    else:\n",
    "        cnt=divisors(n)*divisors((n+1)/2)\n",
    "    if cnt >= 500:\n",
    "        print(Tn)\n",
    "        break"
   ]
  }
 ],
 "metadata": {
  "kernelspec": {
   "display_name": "Python-Programming-Asajad-Hussein-wqUMovOj",
   "language": "python",
   "name": "python3"
  },
  "language_info": {
   "codemirror_mode": {
    "name": "ipython",
    "version": 3
   },
   "file_extension": ".py",
   "mimetype": "text/x-python",
   "name": "python",
   "nbconvert_exporter": "python",
   "pygments_lexer": "ipython3",
   "version": "3.11.5"
  },
  "orig_nbformat": 4
 },
 "nbformat": 4,
 "nbformat_minor": 2
}
