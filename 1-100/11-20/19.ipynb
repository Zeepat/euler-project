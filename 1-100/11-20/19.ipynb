{
 "cells": [
  {
   "cell_type": "code",
   "execution_count": 16,
   "metadata": {},
   "outputs": [
    {
     "name": "stdout",
     "output_type": "stream",
     "text": [
      "171\n"
     ]
    }
   ],
   "source": [
    "import math\n",
    "days = ['Monday', 'Tuesday', 'Wednesday', 'Thursday', 'Friday', 'Saturday', 'Sunday']\n",
    "\n",
    "def check_first_day(year):\n",
    "    if year == 1900:\n",
    "        return \"Monday\"  # Updated day for the year 1900\n",
    "    elif year < 1900:\n",
    "        difference_in_years = 1900 - year\n",
    "        difference_in_days = difference_in_years * 365.25\n",
    "        difference_in_days = math.floor(difference_in_days)\n",
    "        difference_in_days = difference_in_days % 7\n",
    "        return days[-difference_in_days]\n",
    "    elif year > 1900:\n",
    "        difference_in_years = year - 1901\n",
    "        difference_in_days = difference_in_years * 365.25 + 365\n",
    "        difference_in_days = math.floor(difference_in_days)\n",
    "        difference_in_days = difference_in_days % 7\n",
    "        return days[difference_in_days]\n",
    "\n",
    "def check_day_of_week(current_day, days_to_add):\n",
    "    return days[(days.index(current_day) + days_to_add) % 7]\n",
    "\n",
    "def check_if_sunday_is_first_of_month(year):\n",
    "    current_day = check_first_day(year)\n",
    "    sunday_counter = 0\n",
    "\n",
    "    days_per_month = [31, 28, 31, 30, 31, 30, 31, 31, 30, 31, 30, 31]\n",
    "    if_leap_year = [31, 29, 31, 30, 31, 30, 31, 31, 30, 31, 30, 31]\n",
    "\n",
    "    if year % 4 == 0:\n",
    "        for i in if_leap_year:\n",
    "            if current_day == 'Sunday':\n",
    "                sunday_counter += 1\n",
    "            current_day = check_day_of_week(current_day, i)\n",
    "    else:\n",
    "        for i in days_per_month:\n",
    "            if current_day == 'Sunday':\n",
    "                sunday_counter += 1\n",
    "            current_day = check_day_of_week(current_day, i)\n",
    "    \n",
    "    return sunday_counter\n",
    "\n",
    "def check_amount_of_sundays(begin_year, end_year):\n",
    "    sunday_counter = 0\n",
    "    for i in range(begin_year, end_year + 1):\n",
    "        sunday_counter += check_if_sunday_is_first_of_month(i)\n",
    "    return sunday_counter\n",
    "\n",
    "print(check_amount_of_sundays(1901, 2000))\n"
   ]
  }
 ],
 "metadata": {
  "kernelspec": {
   "display_name": "base",
   "language": "python",
   "name": "python3"
  },
  "language_info": {
   "codemirror_mode": {
    "name": "ipython",
    "version": 3
   },
   "file_extension": ".py",
   "mimetype": "text/x-python",
   "name": "python",
   "nbconvert_exporter": "python",
   "pygments_lexer": "ipython3",
   "version": "3.11.4"
  }
 },
 "nbformat": 4,
 "nbformat_minor": 2
}
