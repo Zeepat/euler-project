{
 "cells": [
  {
   "cell_type": "code",
   "execution_count": 19,
   "metadata": {},
   "outputs": [
    {
     "name": "stdout",
     "output_type": "stream",
     "text": [
      "525\n",
      "837799\n"
     ]
    }
   ],
   "source": [
    "def collatz(n):\n",
    "    current_iteration = 1\n",
    "    while n > 1:\n",
    "        if n % 2 == 0:\n",
    "            n /= 2\n",
    "            current_iteration += 1\n",
    "        else:\n",
    "            n = 3 * n + 1\n",
    "            current_iteration += 1\n",
    "        if n == 1:\n",
    "            return current_iteration\n",
    "\n",
    "\n",
    "\n",
    "def main():\n",
    "    saved_iteration = 0\n",
    "    for n in range(2, 10**6):\n",
    "        current_iteration = collatz(n)\n",
    "        if current_iteration > saved_iteration:\n",
    "            saved_number = n\n",
    "            saved_iteration = current_iteration\n",
    "    print(saved_iteration)\n",
    "    print(saved_number)\n",
    "main()"
   ]
  }
 ],
 "metadata": {
  "kernelspec": {
   "display_name": "Python-Programming-Asajad-Hussein-wqUMovOj",
   "language": "python",
   "name": "python3"
  },
  "language_info": {
   "codemirror_mode": {
    "name": "ipython",
    "version": 3
   },
   "file_extension": ".py",
   "mimetype": "text/x-python",
   "name": "python",
   "nbconvert_exporter": "python",
   "pygments_lexer": "ipython3",
   "version": "3.11.5"
  },
  "orig_nbformat": 4
 },
 "nbformat": 4,
 "nbformat_minor": 2
}
