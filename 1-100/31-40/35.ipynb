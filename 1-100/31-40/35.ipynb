{
 "cells": [
  {
   "cell_type": "code",
   "execution_count": 14,
   "metadata": {},
   "outputs": [
    {
     "data": {
      "text/plain": [
       "[5]"
      ]
     },
     "execution_count": 14,
     "metadata": {},
     "output_type": "execute_result"
    }
   ],
   "source": [
    "def isPrime(number):\n",
    "    for i in range(2, int(number**0.5+1)):\n",
    "        if number % i == 0:\n",
    "            return False\n",
    "    return True\n",
    "\n",
    "def something():\n",
    "    for i in range(0, 6):\n",
    "        circular_primes = []\n",
    "\n",
    "        number_string_list = []\n",
    "        if isPrime(i) == True:\n",
    "            number_string = str(i)\n",
    "            for j in number_string:\n",
    "                number_string_list.append(j)\n",
    "\n",
    "            combination_list = combinations(number_string_list)\n",
    "            true_or_false_list = []\n",
    "            for k in combination_list:\n",
    "                if isPrime(k) == True:\n",
    "                    true_or_false_list.append(0)\n",
    "                else:\n",
    "                    true_or_false_list.append(1)\n",
    "                \n",
    "            if true_or_false_list.count(1) == 0:\n",
    "                circular_primes.append(i)\n",
    "\n",
    "    return circular_primes\n",
    "\n",
    "def combinations(number_string_list):\n",
    "\n",
    "    combinations_list = []\n",
    "    for i in range(len(number_string_list)):\n",
    "        first_number = number_string_list[0]\n",
    "        new_number_string_list = number_string_list[1:]\n",
    "        new_number_string_list.append(first_number)\n",
    "        combinations_list.append(int(make_list_into_string(new_number_string_list)))\n",
    "        number_string_list = new_number_string_list\n",
    "\n",
    "    return combinations_list\n",
    "\n",
    "def make_list_into_string(combination_list):\n",
    "    string = \"\"\n",
    "    for i in combination_list:\n",
    "        string += i\n",
    "\n",
    "    return string\n",
    "\n",
    "something()"
   ]
  }
 ],
 "metadata": {
  "kernelspec": {
   "display_name": "base",
   "language": "python",
   "name": "python3"
  },
  "language_info": {
   "codemirror_mode": {
    "name": "ipython",
    "version": 3
   },
   "file_extension": ".py",
   "mimetype": "text/x-python",
   "name": "python",
   "nbconvert_exporter": "python",
   "pygments_lexer": "ipython3",
   "version": "3.11.4"
  }
 },
 "nbformat": 4,
 "nbformat_minor": 2
}
