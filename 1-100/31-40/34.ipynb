{
 "cells": [
  {
   "cell_type": "code",
   "execution_count": 15,
   "metadata": {},
   "outputs": [
    {
     "data": {
      "text/plain": [
       "40730"
      ]
     },
     "execution_count": 15,
     "metadata": {},
     "output_type": "execute_result"
    }
   ],
   "source": [
    "import math\n",
    "def something():\n",
    "    total_sum = 0\n",
    "    for i in range(3, 10**5):\n",
    "        number_string_list = []\n",
    "        number_sum = 0\n",
    "        number_string = str(i)\n",
    "        for j in number_string:\n",
    "            number_string_list.append(int(j))\n",
    "        for k in number_string_list:\n",
    "            number_sum += math.factorial(k)\n",
    "        \n",
    "        if number_sum == i:\n",
    "            total_sum += number_sum\n",
    "    \n",
    "    return total_sum\n",
    "\n",
    "something()"
   ]
  }
 ],
 "metadata": {
  "kernelspec": {
   "display_name": "base",
   "language": "python",
   "name": "python3"
  },
  "language_info": {
   "codemirror_mode": {
    "name": "ipython",
    "version": 3
   },
   "file_extension": ".py",
   "mimetype": "text/x-python",
   "name": "python",
   "nbconvert_exporter": "python",
   "pygments_lexer": "ipython3",
   "version": "3.11.4"
  }
 },
 "nbformat": 4,
 "nbformat_minor": 2
}
